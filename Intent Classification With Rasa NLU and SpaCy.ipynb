{
 "cells": [
  {
   "cell_type": "markdown",
   "metadata": {},
   "source": [
    "### Intent Classification with Rasa NLU and SpaCy \n",
    "+ + A Libary for intent recognition and entity extraction based on SpaCy and Sklearn\n",
    "\n",
    "##### NLP = NLU+NLG+ More\n",
    "+ NLP = understand,process,interprete everyday human language\n",
    "+ NLU = unstructured inputs and convert them into a structured form that a machine can understand and act upon\n",
    "\n",
    "#### Uses\n",
    "+ Chatbot task\n",
    "+ NL understanding\n",
    "+ Intent classification\n",
    "\n"
   ]
  },
  {
   "cell_type": "markdown",
   "metadata": {},
   "source": [
    "![alt text](nlu_nlp_explain.png \"Title\")"
   ]
  },
  {
   "cell_type": "markdown",
   "metadata": {},
   "source": [
    "#### Installation\n",
    "+ pip install rasa_nlu\n",
    "+ python -m rasa_nlu.server &\n",
    "+ sklearn_crfsuite\n",
    "\n",
    "#### using spacy as backend\n",
    "+ pip install rasa_nlu[spacy]\n",
    "+ python -m spacy download en_core_web_md\n",
    "+ python -m spacy link en_core_web_md en\n",
    "  \n",
    "  = = Dataset = =\n",
    "+ demo-rasa.json\n",
    "+ config_spacy.yaml"
   ]
  },
  {
   "cell_type": "code",
   "execution_count": 1,
   "metadata": {},
   "outputs": [],
   "source": [
    "# Load the Packages\n",
    "from rasa_nlu.training_data  import load_data\n",
    "from rasa_nlu.config import RasaNLUModelConfig\n",
    "from rasa_nlu.model import Trainer\n",
    "from rasa_nlu import config"
   ]
  },
  {
   "cell_type": "code",
   "execution_count": 2,
   "metadata": {},
   "outputs": [
    {
     "name": "stdout",
     "output_type": "stream",
     "text": [
      "{\r\n",
      "  \"rasa_nlu_data\": {\r\n",
      "    \"regex_features\": [\r\n",
      "      {\r\n",
      "        \"name\": \"zipcode\",\r\n",
      "        \"pattern\": \"[0-9]{5}\"\r\n",
      "      },\r\n",
      "      {\r\n",
      "        \"name\": \"greet\",\r\n",
      "        \"pattern\": \"hey[^\\\\s]*\"\r\n",
      "      }\r\n",
      "    ],\r\n",
      "    \"entity_synonyms\": [\r\n",
      "      {\r\n",
      "        \"value\": \"chinese\",\r\n",
      "        \"synonyms\": [\"Chinese\", \"Chines\", \"chines\"]\r\n",
      "      },\r\n",
      "      {\r\n",
      "        \"value\": \"vegetarian\",\r\n",
      "        \"synonyms\": [\"veggie\", \"vegg\"]\r\n",
      "      }\r\n",
      "    ],\r\n",
      "    \"common_examples\": [\r\n",
      "      {\r\n",
      "        \"text\": \"hey\", \r\n",
      "        \"intent\": \"greet\", \r\n",
      "        \"entities\": []\r\n",
      "      }, \r\n",
      "      {\r\n",
      "        \"text\": \"howdy\", \r\n",
      "        \"intent\": \"greet\", \r\n",
      "        \"entities\": []\r\n",
      "      }, \r\n",
      "      {\r\n",
      "        \"text\": \"hey there\",\r\n",
      "        \"intent\": \"greet\", \r\n",
      "        \"entities\": []\r\n",
      "      }, \r\n",
      "      {\r\n",
      "        \"text\": \"hello\", \r\n",
      "        \"intent\": \"greet\", \r\n",
      "        \"entities\": []\r\n",
      "      }, \r\n",
      "      {\r\n",
      "        \"text\": \"hi\", \r\n",
      "        \"intent\": \"greet\", \r\n",
      "        \"entities\": []\r\n",
      "      },\r\n",
      "      {\r\n",
      "        \"text\": \"good morning\",\r\n",
      "        \"intent\": \"greet\",\r\n",
      "        \"entities\": []\r\n",
      "      },\r\n",
      "      {\r\n",
      "        \"text\": \"good evening\",\r\n",
      "        \"intent\": \"greet\",\r\n",
      "        \"entities\": []\r\n",
      "      },\r\n",
      "      {\r\n",
      "        \"text\": \"dear sir\",\r\n",
      "        \"intent\": \"greet\",\r\n",
      "        \"entities\": []\r\n",
      "      },\r\n",
      "      {\r\n",
      "        \"text\": \"yes\", \r\n",
      "        \"intent\": \"affirm\", \r\n",
      "        \"entities\": []\r\n",
      "      }, \r\n",
      "      {\r\n",
      "        \"text\": \"yep\", \r\n",
      "        \"intent\": \"affirm\", \r\n",
      "        \"entities\": []\r\n",
      "      }, \r\n",
      "      {\r\n",
      "        \"text\": \"yeah\", \r\n",
      "        \"intent\": \"affirm\", \r\n",
      "        \"entities\": []\r\n",
      "      },\r\n",
      "      {\r\n",
      "        \"text\": \"indeed\",\r\n",
      "        \"intent\": \"affirm\",\r\n",
      "        \"entities\": []\r\n",
      "      },\r\n",
      "      {\r\n",
      "        \"text\": \"that's right\",\r\n",
      "        \"intent\": \"affirm\",\r\n",
      "        \"entities\": []\r\n",
      "      },\r\n",
      "      {\r\n",
      "        \"text\": \"ok\",\r\n",
      "        \"intent\": \"affirm\",\r\n",
      "        \"entities\": []\r\n",
      "      },\r\n",
      "      {\r\n",
      "        \"text\": \"great\",\r\n",
      "        \"intent\": \"affirm\",\r\n",
      "        \"entities\": []\r\n",
      "      },\r\n",
      "      {\r\n",
      "        \"text\": \"right, thank you\",\r\n",
      "        \"intent\": \"affirm\",\r\n",
      "        \"entities\": []\r\n",
      "      },\r\n",
      "      {\r\n",
      "        \"text\": \"correct\",\r\n",
      "        \"intent\": \"affirm\",\r\n",
      "        \"entities\": []\r\n",
      "      },\r\n",
      "      {\r\n",
      "        \"text\": \"great choice\",\r\n",
      "        \"intent\": \"affirm\",\r\n",
      "        \"entities\": []\r\n",
      "      },\r\n",
      "      {\r\n",
      "        \"text\": \"sounds really good\",\r\n",
      "        \"intent\": \"affirm\",\r\n",
      "        \"entities\": []\r\n",
      "      },\r\n",
      "      {\r\n",
      "        \"text\": \"i'm looking for a place to eat\",\r\n",
      "        \"intent\": \"restaurant_search\",\r\n",
      "        \"entities\": []\r\n",
      "      },\r\n",
      "      {\r\n",
      "        \"text\": \"I want to grab lunch\",\r\n",
      "        \"intent\": \"restaurant_search\",\r\n",
      "        \"entities\": []\r\n",
      "      },\r\n",
      "      {\r\n",
      "        \"text\": \"I am searching for a dinner spot\",\r\n",
      "        \"intent\": \"restaurant_search\",\r\n",
      "        \"entities\": []\r\n",
      "      },\r\n",
      "      {\r\n",
      "        \"text\": \"i'm looking for a place in the north of town\",\r\n",
      "        \"intent\": \"restaurant_search\",\r\n",
      "        \"entities\": [\r\n",
      "          {\r\n",
      "            \"start\": 31,\r\n",
      "            \"end\": 36,\r\n",
      "            \"value\": \"north\",\r\n",
      "            \"entity\": \"location\"\r\n",
      "          }\r\n",
      "        ]\r\n",
      "      },\r\n",
      "      {\r\n",
      "        \"text\": \"show me chinese restaurants\",\r\n",
      "        \"intent\": \"restaurant_search\",\r\n",
      "        \"entities\": [\r\n",
      "          {\r\n",
      "            \"start\": 8,\r\n",
      "            \"end\": 15,\r\n",
      "            \"value\": \"chinese\",\r\n",
      "            \"entity\": \"cuisine\"\r\n",
      "          }\r\n",
      "        ]\r\n",
      "      },\r\n",
      "      {\r\n",
      "        \"text\": \"show me chines restaurants in the north\",\r\n",
      "        \"intent\": \"restaurant_search\",\r\n",
      "        \"entities\": [\r\n",
      "          {\r\n",
      "            \"start\": 8,\r\n",
      "            \"end\": 14,\r\n",
      "            \"value\": \"chinese\",\r\n",
      "            \"entity\": \"cuisine\"\r\n",
      "          },\r\n",
      "          {\r\n",
      "            \"start\": 34,\r\n",
      "            \"end\": 39,\r\n",
      "            \"value\": \"north\",\r\n",
      "            \"entity\": \"location\"\r\n",
      "          }\r\n",
      "        ]\r\n",
      "      },\r\n",
      "      {\r\n",
      "        \"text\": \"show me a mexican place in the centre\", \r\n",
      "        \"intent\": \"restaurant_search\", \r\n",
      "        \"entities\": [\r\n",
      "          {\r\n",
      "            \"start\": 31, \r\n",
      "            \"end\": 37, \r\n",
      "            \"value\": \"centre\", \r\n",
      "            \"entity\": \"location\"\r\n",
      "          }, \r\n",
      "          {\r\n",
      "            \"start\": 10, \r\n",
      "            \"end\": 17, \r\n",
      "            \"value\": \"mexican\", \r\n",
      "            \"entity\": \"cuisine\"\r\n",
      "          }\r\n",
      "        ]\r\n",
      "      },\r\n",
      "      {\r\n",
      "        \"text\": \"i am looking for an indian spot called olaolaolaolaolaola\",\r\n",
      "        \"intent\": \"restaurant_search\",\r\n",
      "        \"entities\": [\r\n",
      "          {\r\n",
      "            \"start\": 20,\r\n",
      "            \"end\": 26,\r\n",
      "            \"value\": \"indian\",\r\n",
      "            \"entity\": \"cuisine\"\r\n",
      "          }\r\n",
      "        ]\r\n",
      "      },     {\r\n",
      "        \"text\": \"search for restaurants\",\r\n",
      "        \"intent\": \"restaurant_search\",\r\n",
      "        \"entities\": []\r\n",
      "      },\r\n",
      "      {\r\n",
      "        \"text\": \"anywhere in the west\",\r\n",
      "        \"intent\": \"restaurant_search\",\r\n",
      "        \"entities\": [\r\n",
      "          {\r\n",
      "            \"start\": 16,\r\n",
      "            \"end\": 20,\r\n",
      "            \"value\": \"west\",\r\n",
      "            \"entity\": \"location\"\r\n",
      "          }\r\n",
      "        ]\r\n",
      "      },\r\n",
      "      {\r\n",
      "        \"text\": \"anywhere near 18328\",\r\n",
      "        \"intent\": \"restaurant_search\",\r\n",
      "        \"entities\": [\r\n",
      "          {\r\n",
      "            \"start\": 14,\r\n",
      "            \"end\": 19,\r\n",
      "            \"value\": \"18328\",\r\n",
      "            \"entity\": \"location\"\r\n",
      "          }\r\n",
      "        ]\r\n",
      "      },\r\n",
      "      {\r\n",
      "        \"text\": \"I am looking for asian fusion food\",\r\n",
      "        \"intent\": \"restaurant_search\",\r\n",
      "        \"entities\": [\r\n",
      "          {\r\n",
      "            \"start\": 17,\r\n",
      "            \"end\": 29,\r\n",
      "            \"value\": \"asian fusion\",\r\n",
      "            \"entity\": \"cuisine\"\r\n",
      "          }\r\n",
      "        ]\r\n",
      "      },\r\n",
      "      {\r\n",
      "        \"text\": \"I am looking a restaurant in 29432\",\r\n",
      "        \"intent\": \"restaurant_search\",\r\n",
      "        \"entities\": [\r\n",
      "          {\r\n",
      "            \"start\": 29,\r\n",
      "            \"end\": 34,\r\n",
      "            \"value\": \"29432\",\r\n",
      "            \"entity\": \"location\"\r\n",
      "          }\r\n",
      "        ]\r\n",
      "      },\r\n",
      "      {\r\n",
      "        \"text\": \"I am looking for mexican indian fusion\",\r\n",
      "        \"intent\": \"restaurant_search\",\r\n",
      "        \"entities\": [\r\n",
      "          {\r\n",
      "            \"start\": 17,\r\n",
      "            \"end\": 38,\r\n",
      "            \"value\": \"mexican indian fusion\",\r\n",
      "            \"entity\": \"cuisine\"\r\n",
      "          }\r\n",
      "        ]\r\n",
      "      },\r\n",
      "      {\r\n",
      "        \"text\": \"central indian restaurant\",\r\n",
      "        \"intent\": \"restaurant_search\",\r\n",
      "        \"entities\": [\r\n",
      "          {\r\n",
      "            \"start\": 0,\r\n",
      "            \"end\": 7,\r\n",
      "            \"value\": \"central\",\r\n",
      "            \"entity\": \"location\"\r\n",
      "          },\r\n",
      "          {\r\n",
      "            \"start\": 8,\r\n",
      "            \"end\": 14,\r\n",
      "            \"value\": \"indian\",\r\n",
      "            \"entity\": \"cuisine\"\r\n",
      "          }\r\n",
      "        ]\r\n",
      "      },\r\n",
      "      {\r\n",
      "        \"text\": \"bye\", \r\n",
      "        \"intent\": \"goodbye\", \r\n",
      "        \"entities\": []\r\n",
      "      }, \r\n",
      "      {\r\n",
      "        \"text\": \"goodbye\", \r\n",
      "        \"intent\": \"goodbye\", \r\n",
      "        \"entities\": []\r\n",
      "      }, \r\n",
      "      {\r\n",
      "        \"text\": \"good bye\", \r\n",
      "        \"intent\": \"goodbye\", \r\n",
      "        \"entities\": []\r\n",
      "      }, \r\n",
      "      {\r\n",
      "        \"text\": \"stop\", \r\n",
      "        \"intent\": \"goodbye\", \r\n",
      "        \"entities\": []\r\n",
      "      }, \r\n",
      "      {\r\n",
      "        \"text\": \"end\", \r\n",
      "        \"intent\": \"goodbye\", \r\n",
      "        \"entities\": []\r\n",
      "      },\r\n",
      "      {\r\n",
      "        \"text\": \"farewell\",\r\n",
      "        \"intent\": \"goodbye\",\r\n",
      "        \"entities\": []\r\n",
      "      },\r\n",
      "      {\r\n",
      "        \"text\": \"Bye bye\",\r\n",
      "        \"intent\": \"goodbye\",\r\n",
      "        \"entities\": []\r\n",
      "      },\r\n",
      "      {\r\n",
      "        \"text\": \"have a good one\",\r\n",
      "        \"intent\": \"goodbye\",\r\n",
      "        \"entities\": []\r\n",
      "      }\r\n",
      "    ]\r\n",
      "  }\r\n",
      "}\r\n"
     ]
    }
   ],
   "source": [
    "# Load Data \n",
    "!cat rasa_dataset.json"
   ]
  },
  {
   "cell_type": "code",
   "execution_count": 3,
   "metadata": {},
   "outputs": [],
   "source": [
    "# Loading DataSet\n",
    "train_data = load_data('rasa_dataset.json')"
   ]
  },
  {
   "cell_type": "code",
   "execution_count": 4,
   "metadata": {},
   "outputs": [],
   "source": [
    "# Config Backend using Sklearn and Spacy\n",
    "trainer = Trainer(config.load(\"config_spacy.yaml\"))"
   ]
  },
  {
   "cell_type": "markdown",
   "metadata": {},
   "source": [
    "#### Content on Config\n",
    "    language: \"en\"\n",
    "    pipeline: \"spacy_sklearn\"\n",
    "\n",
    "    =======================\n",
    "\n",
    "    language: \"en\"\n",
    "\n",
    "    pipeline:\n",
    "    - name: \"nlp_spacy\"\n",
    "    - name: \"tokenizer_spacy\"\n",
    "    - name: \"intent_entity_featurizer_regex\"\n",
    "    - name: \"intent_featurizer_spacy\"\n",
    "    - name: \"ner_crf\"\n",
    "    - name: \"ner_synonyms\"\n",
    "    - name: \"intent_classifier_sklearn\""
   ]
  },
  {
   "cell_type": "code",
   "execution_count": 5,
   "metadata": {},
   "outputs": [
    {
     "name": "stdout",
     "output_type": "stream",
     "text": [
      "Fitting 2 folds for each of 6 candidates, totalling 12 fits\n"
     ]
    },
    {
     "name": "stderr",
     "output_type": "stream",
     "text": [
      "[Parallel(n_jobs=1)]: Done  12 out of  12 | elapsed:    0.1s finished\n"
     ]
    },
    {
     "data": {
      "text/plain": [
       "<rasa_nlu.model.Interpreter at 0x7f831166d3c8>"
      ]
     },
     "execution_count": 5,
     "metadata": {},
     "output_type": "execute_result"
    }
   ],
   "source": [
    "# Training Data\n",
    "trainer.train(train_data)"
   ]
  },
  {
   "cell_type": "code",
   "execution_count": 6,
   "metadata": {
    "scrolled": true
   },
   "outputs": [],
   "source": [
    "# Returns the directory the model is stored in (Create a folder to store model in)\n",
    "model_directory = trainer.persist('//home/alo-fauzy/Work/coba_lokal/rasa_nlu/Intent Classification With Rasa - Spacy/projects/default/model_20180602-072117/')"
   ]
  },
  {
   "cell_type": "markdown",
   "metadata": {},
   "source": [
    "#### Entity Extraction With SpaCy"
   ]
  },
  {
   "cell_type": "code",
   "execution_count": 7,
   "metadata": {},
   "outputs": [],
   "source": [
    "import spacy\n",
    "nlp = spacy.load('en')"
   ]
  },
  {
   "cell_type": "code",
   "execution_count": 8,
   "metadata": {},
   "outputs": [],
   "source": [
    "docx = nlp(u\"I am looking for an Italian Restaurant where I can eat\")"
   ]
  },
  {
   "cell_type": "code",
   "execution_count": 9,
   "metadata": {},
   "outputs": [
    {
     "name": "stdout",
     "output_type": "stream",
     "text": [
      "value Italian entity NORP start 20 end 27\n"
     ]
    }
   ],
   "source": [
    "for word in docx.ents:\n",
    "    print(\"value\",word.text,\"entity\",word.label_,\"start\",word.start_char,\"end\",word.end_char)"
   ]
  },
  {
   "cell_type": "markdown",
   "metadata": {},
   "source": [
    "#### Making Predictions With Model\n",
    "+ Interpreter.load().parse()"
   ]
  },
  {
   "cell_type": "code",
   "execution_count": 10,
   "metadata": {},
   "outputs": [],
   "source": [
    "from rasa_nlu.model import Metadata, Interpreter"
   ]
  },
  {
   "cell_type": "code",
   "execution_count": 11,
   "metadata": {},
   "outputs": [],
   "source": [
    "# where `model_directory points to the folder the model is persisted in\n",
    "interpreter = Interpreter.load(model_directory)"
   ]
  },
  {
   "cell_type": "code",
   "execution_count": 12,
   "metadata": {},
   "outputs": [
    {
     "data": {
      "text/plain": [
       "{'intent': {'name': 'restaurant_search', 'confidence': 0.7353915921539713},\n",
       " 'entities': [],\n",
       " 'intent_ranking': [{'name': 'restaurant_search',\n",
       "   'confidence': 0.7353915921539713},\n",
       "  {'name': 'affirm', 'confidence': 0.15833169020904017},\n",
       "  {'name': 'greet', 'confidence': 0.053300246941382495},\n",
       "  {'name': 'goodbye', 'confidence': 0.052976470695606244}],\n",
       " 'text': 'I am looking for an Italian Restaurant where I can eat'}"
      ]
     },
     "execution_count": 12,
     "metadata": {},
     "output_type": "execute_result"
    }
   ],
   "source": [
    "# Prediction of Intent\n",
    "interpreter.parse(u\"I am looking for an Italian Restaurant where I can eat\")"
   ]
  },
  {
   "cell_type": "code",
   "execution_count": 13,
   "metadata": {},
   "outputs": [
    {
     "data": {
      "text/plain": [
       "{'intent': {'name': 'restaurant_search', 'confidence': 0.6596038953083811},\n",
       " 'entities': [],\n",
       " 'intent_ranking': [{'name': 'restaurant_search',\n",
       "   'confidence': 0.6596038953083811},\n",
       "  {'name': 'goodbye', 'confidence': 0.14800860214345987},\n",
       "  {'name': 'affirm', 'confidence': 0.12860848814038187},\n",
       "  {'name': 'greet', 'confidence': 0.06377901440777727}],\n",
       " 'text': 'I want an African Spot to eat'}"
      ]
     },
     "execution_count": 13,
     "metadata": {},
     "output_type": "execute_result"
    }
   ],
   "source": [
    "interpreter.parse(u\"I want an African Spot to eat\")"
   ]
  },
  {
   "cell_type": "code",
   "execution_count": 14,
   "metadata": {},
   "outputs": [
    {
     "data": {
      "text/plain": [
       "{'intent': {'name': 'greet', 'confidence': 0.4425446256444779},\n",
       " 'entities': [],\n",
       " 'intent_ranking': [{'name': 'greet', 'confidence': 0.4425446256444779},\n",
       "  {'name': 'goodbye', 'confidence': 0.2690633794438583},\n",
       "  {'name': 'affirm', 'confidence': 0.17600711695445678},\n",
       "  {'name': 'restaurant_search', 'confidence': 0.11238487795720703}],\n",
       " 'text': 'Good morning World'}"
      ]
     },
     "execution_count": 14,
     "metadata": {},
     "output_type": "execute_result"
    }
   ],
   "source": [
    "interpreter.parse(u\"Good morning World\")"
   ]
  },
  {
   "cell_type": "code",
   "execution_count": null,
   "metadata": {},
   "outputs": [],
   "source": []
  },
  {
   "cell_type": "code",
   "execution_count": 15,
   "metadata": {},
   "outputs": [],
   "source": [
    "### Credits Rasa_nlu\n",
    "#### By Jesse JCharis\n",
    "#### Jesus Saves @ JCharisTec"
   ]
  }
 ],
 "metadata": {
  "kernelspec": {
   "display_name": "Python 3",
   "language": "python",
   "name": "python3"
  },
  "language_info": {
   "codemirror_mode": {
    "name": "ipython",
    "version": 3
   },
   "file_extension": ".py",
   "mimetype": "text/x-python",
   "name": "python",
   "nbconvert_exporter": "python",
   "pygments_lexer": "ipython3",
   "version": "3.7.3"
  }
 },
 "nbformat": 4,
 "nbformat_minor": 2
}
